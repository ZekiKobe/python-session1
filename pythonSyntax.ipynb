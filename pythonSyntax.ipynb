{
 "cells": [
  {
   "cell_type": "markdown",
   "metadata": {},
   "source": [
    "Indentation"
   ]
  },
  {
   "cell_type": "code",
   "execution_count": 2,
   "metadata": {},
   "outputs": [
    {
     "name": "stdout",
     "output_type": "stream",
     "text": [
      "This will be execute first\n",
      "Welcome to python class\n"
     ]
    }
   ],
   "source": [
    "def greet_customer():\n",
    "    print(\"Welcome to python class\")\n",
    "print(\"This will be execute first\")\n",
    "greet_customer()\n",
    "    "
   ]
  },
  {
   "cell_type": "code",
   "execution_count": 6,
   "metadata": {},
   "outputs": [
    {
     "name": "stdout",
     "output_type": "stream",
     "text": [
      "5000\n"
     ]
    }
   ],
   "source": [
    "#This is comment\n",
    "accountBalance = 5000\n",
    "print(accountBalance)"
   ]
  },
  {
   "cell_type": "code",
   "execution_count": 13,
   "metadata": {},
   "outputs": [
    {
     "name": "stdout",
     "output_type": "stream",
     "text": [
      "Hey,jhv\n"
     ]
    }
   ],
   "source": [
    "name = input(\"Please enter your name here..\")\n",
    "print(f\"Hey,{name}\")\n",
    "\n"
   ]
  },
  {
   "cell_type": "code",
   "execution_count": 16,
   "metadata": {},
   "outputs": [
    {
     "name": "stdout",
     "output_type": "stream",
     "text": [
      "You entered:7\n"
     ]
    }
   ],
   "source": [
    "try:\n",
    "    value = int(input(\"Enter Number:\"))\n",
    "    print(f\"You entered:{value}\")\n",
    "except ValueError:\n",
    "    print(\"This is invalid integer\")"
   ]
  },
  {
   "cell_type": "code",
   "execution_count": 18,
   "metadata": {},
   "outputs": [
    {
     "name": "stdout",
     "output_type": "stream",
     "text": [
      "The area of the circle with radius 5.3 is:88.25\n"
     ]
    }
   ],
   "source": [
    "import math\n",
    "def calculate_area(radius):\n",
    "    return math.pi * radius ** 2\n",
    "def main():\n",
    " radius = float(input(\"Enter the radius of the circle: \"))\n",
    " area = calculate_area(radius)\n",
    " print(f\"The area of the circle with radius {radius} is:{area:.2f}\")\n",
    "if __name__ == \"__main__\":\n",
    " main()\n"
   ]
  },
  {
   "cell_type": "markdown",
   "metadata": {},
   "source": [
    "Data Types"
   ]
  },
  {
   "cell_type": "code",
   "execution_count": 22,
   "metadata": {},
   "outputs": [
    {
     "name": "stdout",
     "output_type": "stream",
     "text": [
      "ome,Ka\n"
     ]
    }
   ],
   "source": [
    "#Strings,floats,boolean,integers\n",
    "name=\"Kalkidan\"\n",
    "fathersName=\"Debas\"\n",
    "\n",
    "account_holder=name + \" \" +fathersName\n",
    "account_message = f\"Welcome,{account_holder}\"\n",
    "\n",
    "print(account_message[4:10])"
   ]
  },
  {
   "cell_type": "code",
   "execution_count": 23,
   "metadata": {},
   "outputs": [
    {
     "name": "stdout",
     "output_type": "stream",
     "text": [
      "Thank you John Doe for your transaction of $200.50.\n"
     ]
    }
   ],
   "source": [
    "account_name = \"John Doe\"\n",
    "transaction = 200.50\n",
    "receipt = f\"Thank you {account_name} for your transaction of ${transaction:.2f}.\"\n",
    "print(receipt)"
   ]
  },
  {
   "cell_type": "code",
   "execution_count": 24,
   "metadata": {},
   "outputs": [
    {
     "name": "stdout",
     "output_type": "stream",
     "text": [
      "Interest after 2 years: 500.0\n"
     ]
    }
   ],
   "source": [
    "principal = 5000 # Initial amount\n",
    "rate = 0.05 # 5% interest\n",
    "time = 2 # in years\n",
    "interest = principal * rate * time\n",
    "print(\"Interest after 2 years:\", interest)"
   ]
  },
  {
   "cell_type": "code",
   "execution_count": 29,
   "metadata": {},
   "outputs": [
    {
     "name": "stdout",
     "output_type": "stream",
     "text": [
      "Qualifies for loan: False\n"
     ]
    }
   ],
   "source": [
    "has_good_credit = False\n",
    "has_sufficient_income = False\n",
    "qualifies_for_loan = has_good_credit and has_sufficient_income\n",
    "print(\"Qualifies for loan:\", qualifies_for_loan)"
   ]
  },
  {
   "cell_type": "code",
   "execution_count": 31,
   "metadata": {},
   "outputs": [
    {
     "name": "stdout",
     "output_type": "stream",
     "text": [
      "Can withdraw: False\n"
     ]
    }
   ],
   "source": [
    "account_balance = 500\n",
    "withdrawal_amount = 700\n",
    "can_withdraw = withdrawal_amount <= account_balance\n",
    "print(\"Can withdraw:\", can_withdraw)"
   ]
  },
  {
   "cell_type": "code",
   "execution_count": 44,
   "metadata": {},
   "outputs": [
    {
     "name": "stdout",
     "output_type": "stream",
     "text": [
      "0\n"
     ]
    }
   ],
   "source": [
    "a=0\n",
    "b=3\n",
    "c= a & b\n",
    "print(c)"
   ]
  }
 ],
 "metadata": {
  "kernelspec": {
   "display_name": "Python 3",
   "language": "python",
   "name": "python3"
  },
  "language_info": {
   "codemirror_mode": {
    "name": "ipython",
    "version": 3
   },
   "file_extension": ".py",
   "mimetype": "text/x-python",
   "name": "python",
   "nbconvert_exporter": "python",
   "pygments_lexer": "ipython3",
   "version": "3.12.4"
  }
 },
 "nbformat": 4,
 "nbformat_minor": 2
}
