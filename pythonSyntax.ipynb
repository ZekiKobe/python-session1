{
 "cells": [
  {
   "cell_type": "markdown",
   "metadata": {},
   "source": [
    "Indentation"
   ]
  },
  {
   "cell_type": "code",
   "execution_count": 2,
   "metadata": {},
   "outputs": [
    {
     "name": "stdout",
     "output_type": "stream",
     "text": [
      "This will be execute first\n",
      "Welcome to python class\n"
     ]
    }
   ],
   "source": [
    "def greet_customer():\n",
    "    print(\"Welcome to python class\")\n",
    "print(\"This will be execute first\")\n",
    "greet_customer()\n",
    "    "
   ]
  },
  {
   "cell_type": "code",
   "execution_count": 6,
   "metadata": {},
   "outputs": [
    {
     "name": "stdout",
     "output_type": "stream",
     "text": [
      "5000\n"
     ]
    }
   ],
   "source": [
    "#This is comment\n",
    "accountBalance = 5000\n",
    "print(accountBalance)"
   ]
  },
  {
   "cell_type": "code",
   "execution_count": 13,
   "metadata": {},
   "outputs": [
    {
     "name": "stdout",
     "output_type": "stream",
     "text": [
      "Hey,jhv\n"
     ]
    }
   ],
   "source": [
    "name = input(\"Please enter your name here..\")\n",
    "print(f\"Hey,{name}\")\n",
    "\n"
   ]
  },
  {
   "cell_type": "code",
   "execution_count": 16,
   "metadata": {},
   "outputs": [
    {
     "name": "stdout",
     "output_type": "stream",
     "text": [
      "You entered:7\n"
     ]
    }
   ],
   "source": [
    "try:\n",
    "    value = int(input(\"Enter Number:\"))\n",
    "    print(f\"You entered:{value}\")\n",
    "except ValueError:\n",
    "    print(\"This is invalid integer\")"
   ]
  },
  {
   "cell_type": "code",
   "execution_count": 18,
   "metadata": {},
   "outputs": [
    {
     "name": "stdout",
     "output_type": "stream",
     "text": [
      "The area of the circle with radius 5.3 is:88.25\n"
     ]
    }
   ],
   "source": [
    "import math\n",
    "def calculate_area(radius):\n",
    "    return math.pi * radius ** 2\n",
    "def main():\n",
    " radius = float(input(\"Enter the radius of the circle: \"))\n",
    " area = calculate_area(radius)\n",
    " print(f\"The area of the circle with radius {radius} is:{area:.2f}\")\n",
    "if __name__ == \"__main__\":\n",
    " main()\n"
   ]
  },
  {
   "cell_type": "markdown",
   "metadata": {},
   "source": [
    "Data Types"
   ]
  },
  {
   "cell_type": "code",
   "execution_count": 22,
   "metadata": {},
   "outputs": [
    {
     "name": "stdout",
     "output_type": "stream",
     "text": [
      "ome,Ka\n"
     ]
    }
   ],
   "source": [
    "#Strings,floats,boolean,integers\n",
    "name=\"Kalkidan\"\n",
    "fathersName=\"Debas\"\n",
    "\n",
    "account_holder=name + \" \" +fathersName\n",
    "account_message = f\"Welcome,{account_holder}\"\n",
    "\n",
    "print(account_message[4:10])"
   ]
  },
  {
   "cell_type": "code",
   "execution_count": 23,
   "metadata": {},
   "outputs": [
    {
     "name": "stdout",
     "output_type": "stream",
     "text": [
      "Thank you John Doe for your transaction of $200.50.\n"
     ]
    }
   ],
   "source": [
    "account_name = \"John Doe\"\n",
    "transaction = 200.50\n",
    "receipt = f\"Thank you {account_name} for your transaction of ${transaction:.2f}.\"\n",
    "print(receipt)"
   ]
  },
  {
   "cell_type": "code",
   "execution_count": 24,
   "metadata": {},
   "outputs": [
    {
     "name": "stdout",
     "output_type": "stream",
     "text": [
      "Interest after 2 years: 500.0\n"
     ]
    }
   ],
   "source": [
    "principal = 5000 # Initial amount\n",
    "rate = 0.05 # 5% interest\n",
    "time = 2 # in years\n",
    "interest = principal * rate * time\n",
    "print(\"Interest after 2 years:\", interest)"
   ]
  },
  {
   "cell_type": "code",
   "execution_count": 29,
   "metadata": {},
   "outputs": [
    {
     "name": "stdout",
     "output_type": "stream",
     "text": [
      "Qualifies for loan: False\n"
     ]
    }
   ],
   "source": [
    "has_good_credit = False\n",
    "has_sufficient_income = False\n",
    "qualifies_for_loan = has_good_credit and has_sufficient_income\n",
    "print(\"Qualifies for loan:\", qualifies_for_loan)"
   ]
  },
  {
   "cell_type": "code",
   "execution_count": 31,
   "metadata": {},
   "outputs": [
    {
     "name": "stdout",
     "output_type": "stream",
     "text": [
      "Can withdraw: False\n"
     ]
    }
   ],
   "source": [
    "account_balance = 500\n",
    "withdrawal_amount = 700\n",
    "can_withdraw = withdrawal_amount <= account_balance\n",
    "print(\"Can withdraw:\", can_withdraw)"
   ]
  },
  {
   "cell_type": "code",
   "execution_count": 44,
   "metadata": {},
   "outputs": [
    {
     "name": "stdout",
     "output_type": "stream",
     "text": [
      "0\n"
     ]
    }
   ],
   "source": [
    "a=0\n",
    "b=3\n",
    "c= a & b\n",
    "print(c)"
   ]
  },
  {
   "cell_type": "code",
   "execution_count": null,
   "metadata": {},
   "outputs": [],
   "source": [
    "balance = 1500\n",
    "if balance < 1000:\n",
    "    print(\"Balance is not \")"
   ]
  },
  {
   "cell_type": "code",
   "execution_count": 2,
   "metadata": {},
   "outputs": [
    {
     "name": "stdout",
     "output_type": "stream",
     "text": [
      "Customer is eligible\n"
     ]
    }
   ],
   "source": [
    "age = 18\n",
    "saving_amount = 25\n",
    "\n",
    "if age == 18 and saving_amount == 25:\n",
    "         print(\"Customer is eligible for saving account\")\n",
    "else:\n",
    "        print(\"Customer is not eligible for saving account\")\n"
   ]
  },
  {
   "cell_type": "code",
   "execution_count": 13,
   "metadata": {},
   "outputs": [
    {
     "name": "stdout",
     "output_type": "stream",
     "text": [
      "Customer is eligible\n"
     ]
    }
   ],
   "source": [
    "def isCustomerEligible(age,amount):\n",
    "    amount = float(input(\" enter balance here:\"))\n",
    "    age= int(input('enter age:'))\n",
    "    if age >= 18 and amount >= 5000:\n",
    "        print(\"Customer is eligible\")\n",
    "    else:\n",
    "        print(\"Customer is not eligible\")\n",
    "isCustomerEligible(18,2500)"
   ]
  },
  {
   "cell_type": "code",
   "execution_count": 11,
   "metadata": {},
   "outputs": [
    {
     "name": "stdout",
     "output_type": "stream",
     "text": [
      "Your bonus is:110000.0\n"
     ]
    }
   ],
   "source": [
    "\n",
    "balance = float(input(\"Enter your balance here:\"))\n",
    "if balance >= 10000:\n",
    "    bonus_interest_rate = balance + (balance * 0.1)\n",
    "    print(f\"Your bonus is:{bonus_interest_rate}\")\n",
    "else:\n",
    "    print(\"Balance insufficient for the bonus request\")\n"
   ]
  },
  {
   "cell_type": "code",
   "execution_count": 39,
   "metadata": {},
   "outputs": [
    {
     "name": "stdout",
     "output_type": "stream",
     "text": [
      "Total deposit:4010\n"
     ]
    }
   ],
   "source": [
    "balances = [100,200,2300,400,450,560]\n",
    "totalDeposit = 0\n",
    "for balance in balances:\n",
    "    totalDeposit = totalDeposit + balance\n",
    "print(f\"Total deposit:{totalDeposit}\")\n",
    "\n",
    "\n"
   ]
  },
  {
   "cell_type": "code",
   "execution_count": 35,
   "metadata": {},
   "outputs": [
    {
     "name": "stdout",
     "output_type": "stream",
     "text": [
      "Incorrect PIN. Attempts left: 2\n",
      "Incorrect PIN. Attempts left: 1\n",
      "Incorrect PIN. Attempts left: 0\n",
      "Card blocked due to multiple incorrect attempts.\n"
     ]
    }
   ],
   "source": [
    "attempts = 3\n",
    "correct_pin = \"5678\"\n",
    "\n",
    "while attempts > 0:\n",
    "    pin = input(\"Enter PIN: \")\n",
    "    if pin == correct_pin:\n",
    "        print(\"Access granted.\")\n",
    "        break\n",
    "    else:\n",
    "        attempts -= 1\n",
    "        print(\"Incorrect PIN. Attempts left:\", attempts)\n",
    "\n",
    "if attempts == 0:\n",
    "    print(\"Card blocked due to multiple incorrect attempts.\")\n"
   ]
  },
  {
   "cell_type": "code",
   "execution_count": 41,
   "metadata": {},
   "outputs": [],
   "source": [
    "def calculate_mortgage(principal, rate, term):\n",
    "    monthly_rate = rate / 12\n",
    "    months = term * 12\n",
    "    monthly_payment = principal * (monthly_rate * (1 +\n",
    "    monthly_rate) ** months) / ((1 + monthly_rate) ** months - 1)\n",
    "    return monthly_payment\n",
    "    payment = calculate_mortgage(250000, 0.04, 30)\n",
    "    print(\"Monthly mortgage payment:\", round(payment, 2))"
   ]
  },
  {
   "cell_type": "code",
   "execution_count": null,
   "metadata": {},
   "outputs": [],
   "source": [
    "def validate_loan_application(income, credit_score):\n",
    "    if income > 40000 and credit_score >= 700:\n",
    "        return \"Approved\"\n",
    "    return \"Not Approved\"\n",
    "\n",
    "result = validate_loan_application(45000, 720)\n",
    "print(\"Loan application status:\", result)\n"
   ]
  },
  {
   "cell_type": "code",
   "execution_count": null,
   "metadata": {},
   "outputs": [],
   "source": [
    "def accumulated_balance(initial_balance, monthly_deposit, interest_rate, months):\n",
    "    for _ in range(months):\n",
    "        initial_balance += monthly_deposit\n",
    "        initial_balance += initial_balance * (interest_rate / 12)\n",
    "    return round(initial_balance, 2)\n",
    "\n",
    "balance = accumulated_balance(5000, 100, 0.05, 12)\n",
    "print(\"Balance after one year:\", balance)\n"
   ]
  },
  {
   "cell_type": "code",
   "execution_count": null,
   "metadata": {},
   "outputs": [],
   "source": []
  }
 ],
 "metadata": {
  "kernelspec": {
   "display_name": "Python 3",
   "language": "python",
   "name": "python3"
  },
  "language_info": {
   "codemirror_mode": {
    "name": "ipython",
    "version": 3
   },
   "file_extension": ".py",
   "mimetype": "text/x-python",
   "name": "python",
   "nbconvert_exporter": "python",
   "pygments_lexer": "ipython3",
   "version": "3.12.4"
  }
 },
 "nbformat": 4,
 "nbformat_minor": 2
}
